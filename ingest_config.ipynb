{
 "cells": [
  {
   "cell_type": "markdown",
   "metadata": {},
   "source": [
    "Upload Data to Azure Data Lake\n"
   ]
  },
  {
   "cell_type": "code",
   "execution_count": null,
   "metadata": {},
   "outputs": [],
   "source": [
    "from azure.storage.blob import BlobServiceClient, BlobClient, ContainerClient\n",
    "import os\n",
    "\n",
    "# Azure Storage Account credentials\n",
    "account_name = \"storio\"\n",
    "account_key = \"\"\n",
    "container_name = \"raw-data\"\n",
    "\n",
    "# Connect to the Azure Blob Storage\n",
    "connection_string = f\"\"\n",
    "blob_service_client = BlobServiceClient.from_connection_string(connection_string)\n",
    "\n",
    "# Ensure container exists\n",
    "try:\n",
    "    container_client = blob_service_client.create_container(container_name)\n",
    "except Exception:\n",
    "    print(f\"Container '{container_name}' already exists.\")\n",
    "\n",
    "# Local dataset paths\n",
    "local_files = {\n",
    "    \"sales.csv\": \"sales.csv\",\n",
    "    \"customers.csv\": \"customers.csv\",\n",
    "    \"marketing.csv\": \"marketing.csv\"\n",
    "}\n",
    "\n",
    "# Upload each file\n",
    "for file_name, local_path in local_files.items():\n",
    "    blob_client = blob_service_client.get_blob_client(container=container_name, blob=file_name)\n",
    "    with open(local_path, \"rb\") as data:\n",
    "        blob_client.upload_blob(data, overwrite=True)\n",
    "    print(f\"Uploaded {file_name} to Azure Data Lake.\")"
   ]
  },
  {
   "cell_type": "markdown",
   "metadata": {},
   "source": [
    "dbt Configuration"
   ]
  },
  {
   "cell_type": "code",
   "execution_count": null,
   "metadata": {},
   "outputs": [],
   "source": [
    "import os\n",
    "import subprocess\n",
    "\n",
    "# Create dbt project directory\n",
    "project_name = \"retail_project\"\n",
    "os.makedirs(project_name, exist_ok=True)\n",
    "\n",
    "# Create dbt project structure\n",
    "dbt_project_content = f\"\"\"\n",
    "name: '{project_name}'\n",
    "version: '1.0'\n",
    "config-version: 2\n",
    "profile: '{project_name}'\n",
    "\"\"\"\n",
    "with open(f\"{project_name}/dbt_project.yml\", \"w\") as f:\n",
    "    f.write(dbt_project_content)\n",
    "\n",
    "# Create profiles.yml content for Snowflake\n",
    "profiles_content = f\"\"\"\n",
    "{project_name}:\n",
    "  outputs:\n",
    "    dev:\n",
    "      type: snowflake\n",
    "      account: Justin Uto-Dieu\n",
    "      user: JDIO\n",
    "      password: password\n",
    "      role: ACCOUNTADMIN\n",
    "      database: your_database\n",
    "      warehouse: your_warehouse\n",
    "      schema: analytics\n",
    "  target: dev\n",
    "\"\"\"\n",
    "os.makedirs(f\"{os.path.expanduser('~')}/.dbt\", exist_ok=True)\n",
    "with open(f\"{os.path.expanduser('~')}/.dbt/profiles.yml\", \"w\") as f:\n",
    "    f.write(profiles_content)\n",
    "\n",
    "# Initialize dbt project\n",
    "subprocess.run([\"dbt\", \"init\", project_name])\n",
    "print(f\"Initialized dbt project: {project_name}\")"
   ]
  }
 ],
 "metadata": {
  "kernelspec": {
   "display_name": ".venv",
   "language": "python",
   "name": "python3"
  },
  "language_info": {
   "codemirror_mode": {
    "name": "ipython",
    "version": 3
   },
   "file_extension": ".py",
   "mimetype": "text/x-python",
   "name": "python",
   "nbconvert_exporter": "python",
   "pygments_lexer": "ipython3",
   "version": "3.12.7"
  }
 },
 "nbformat": 4,
 "nbformat_minor": 2
}
